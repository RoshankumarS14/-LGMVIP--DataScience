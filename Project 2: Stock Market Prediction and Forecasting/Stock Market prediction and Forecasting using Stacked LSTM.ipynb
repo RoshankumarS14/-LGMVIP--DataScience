{
 "cells": [
  {
   "cell_type": "markdown",
   "id": "22941445",
   "metadata": {},
   "source": [
    "<tr>\n",
    "<td align=\"left\">\n",
    " <div align=\"left\" style=\"margin-left: 80px;\" >\n",
    "   <font color=\"#21618C\" size=10px >\n",
    "   <b>Lets Grow More</b>\n",
    " <div align=\"left\" style=\"margin-left: -20px;\">       \n",
    "   <font color=\"#21618C\" size=6px>\n",
    "   <b>Virtual Internship Program</b>\n",
    "<td width=\"30%\" align=\"left\" > <img src=\"LGM logo.jpg\"> "
   ]
  },
  {
   "cell_type": "markdown",
   "id": "7ee8396b",
   "metadata": {},
   "source": [
    "<table align=\"left\" style=\"margin-left: 80px;\">\n",
    "<td>\n",
    "<font color=\"green\" size=6px >            \n",
    "<b>Data Analytics Internship</b>"
   ]
  },
  {
   "cell_type": "markdown",
   "id": "8334b227",
   "metadata": {},
   "source": [
    "## **Author:** Roshankumar S"
   ]
  },
  {
   "cell_type": "markdown",
   "id": "f04c68b4",
   "metadata": {},
   "source": [
    "## Time Series Forecasting - Stock Market Prediction using Stacked LSTM\n",
    "* ##### [1. Time Series Forecasting](#introduction)\n",
    "* ##### [2. Stacked LSTM](#kmeans)\n",
    "* ##### [3. Problem Statement](#problem_statement)\n",
    "* ##### [4. Objective](#objective)\n",
    "* ##### [5. Dataset Description](#description)\n",
    "* ##### [6. Data Dictionary](#dictionary)\n",
    "* ##### [7. Prerequisite](#prerequisite)\n",
    "* ##### [8. Understanding and summarizing dataset](#understanding)\n",
    "* ##### [9. Data preparation](#preparation)\n",
    "* ##### [10. Model Developement](#model_developement)\n",
    "* ##### [11. Model Evaluation](#model_evaluation)\n",
    "* ##### [12. Predict stock price for next 30 days](#prediction)\n",
    "* ##### [13. Conclusion](#conclusion)"
   ]
  },
  {
   "cell_type": "markdown",
   "id": "7a91fc7c",
   "metadata": {},
   "source": [
    "<a id=\"introduction\"><a>\n",
    "## Time Series Forecasting"
   ]
  },
  {
   "cell_type": "markdown",
   "id": "9bcef5e3",
   "metadata": {},
   "source": [
    "<p style='text-align: justify; text-indent: 30px; max-width:950px;'>\n",
    "Time series forecasting is a valuable tool that utilizes past data to predict future values of a variable. It aids in decision-making, resource planning, and identifying potential opportunities or risks. With advanced techniques like machine learning, forecasting models have become more accurate and adaptable, enabling businesses to make more informed and optimized decisions.\n",
    "<p style='text-align: justify; text-indent: 30px; max-width:950px;'>\n",
    "    The application of time series forecasting has been instrumental in various fields such as finance, economics, weather forecasting, and sales prediction. By analyzing patterns and seasonality in historical data, businesses can anticipate market trends and adjust strategies accordingly. These forecasting models continually evolve, incorporating advanced algorithms to handle complex relationships and improve accuracy, thus empowering organizations with valuable insights for effective planning and decision-making.    "
   ]
  },
  {
   "cell_type": "markdown",
   "id": "27aea99c",
   "metadata": {},
   "source": [
    "<a id=\"kmeans\"><a>\n",
    "## Stacked LSTM"
   ]
  },
  {
   "cell_type": "markdown",
   "id": "75b3aa2e",
   "metadata": {},
   "source": [
    "<p style='text-align: justify; text-indent: 30px; max-width:950px;'>\n",
    "Stacked LSTM (Long Short-Term Memory) refers to a type of recurrent neural network (RNN) architecture that involves stacking multiple LSTM layers on top of each other. LSTM is a variant of RNN that addresses the vanishing gradient problem and is widely used for sequence data analysis, including time series forecasting.\n",
    "<p style='text-align: justify; text-indent: 30px; max-width:950px;'>\n",
    "In a stacked LSTM, each LSTM layer receives input from the previous layer and passes its output as input to the next layer. The lower layers capture lower-level temporal dependencies, while the higher layers learn more abstract representations and capture higher-level patterns in the data. This hierarchical structure allows stacked LSTMs to learn complex and long-term dependencies in time series data."
   ]
  },
  {
   "cell_type": "markdown",
   "id": "6fce7d83",
   "metadata": {},
   "source": [
    "<a id=\"problem_statement\"><a>\n",
    "## Problem Statement"
   ]
  },
  {
   "cell_type": "markdown",
   "id": "d1990ef4",
   "metadata": {},
   "source": [
    "<p style='text-align: justify; text-indent: 30px; max-width:950px;'>\n",
    "Create a robust stock market forecasting model using stacked LSTM to overcome the limitations of traditional methods and enhance accuracy. By employing the stacked LSTM architecture, develop a reliable model that can effectively analyze historical data, identify trends, and make accurate forecasts, enabling investors and traders to make informed decisions."
   ]
  },
  {
   "cell_type": "markdown",
   "id": "5d8e70da",
   "metadata": {},
   "source": [
    "<a id=\"objective\"><a>\n",
    "## Objective"
   ]
  },
  {
   "cell_type": "markdown",
   "id": "8fdeae6d",
   "metadata": {},
   "source": [
    "<p style='text-align: justify; text-indent: 30px; max-width:950px;'>\n",
    "The objective of this project is to develop a stock market prediction and forecasting model using stacked LSTM to achieve higher accuracy and overcome the limitations of traditional forecasting methods. The aim is to leverage the power of deep learning and the hierarchical structure of stacked LSTM to capture complex patterns and long-term dependencies present in stock market data. By analyzing historical data, the objective is to build a reliable model that can accurately forecast future price movements, providing valuable insights to investors and traders for making informed decisions. The goal is to optimize portfolio management strategies and enhance overall performance in the dynamic and volatile stock market environment."
   ]
  },
  {
   "cell_type": "markdown",
   "id": "8516b0cc",
   "metadata": {},
   "source": [
    "<a id=\"description\"><a>\n",
    "## Dataset Description"
   ]
  },
  {
   "cell_type": "markdown",
   "id": "893c90e1",
   "metadata": {},
   "source": [
    "<p style='text-align: justify; text-indent: 30px; max-width:950px;'>\n",
    "The provided CSV file contains a dataset titled \"NSE-TATAGLOBAL\" which represents the stock market data for the Tata Global Beverages Limited, traded on the National Stock Exchange (NSE). \n",
    "<p style='text-align: justify; text-indent: 30px; max-width:950px;'>\n",
    "The dataset consists of historical stock market data for Tata Global Beverages Limited, spanning a period from January 2010 to August 2020. It includes a total of 2,504 data points, with each data point representing a specific trading day."
   ]
  },
  {
   "cell_type": "markdown",
   "id": "beb902f9",
   "metadata": {},
   "source": [
    "<a id=\"dictionary\"><a>\n",
    "## Data Dictionary"
   ]
  },
  {
   "cell_type": "markdown",
   "id": "7533219d",
   "metadata": {},
   "source": [
    "**Date:** The date of the trading day.\n",
    "\n",
    "**Open:** The opening price of the stock on that trading day.\n",
    "\n",
    "**High:** The highest price reached by the stock during the trading day.\n",
    "\n",
    "**Low:** The lowest price reached by the stock during the trading day.\n",
    "\n",
    "**Last:** The last traded price of the stock on that trading day.\n",
    "\n",
    "**Close:** The closing price of the stock on that trading day.\n",
    "\n",
    "**Total Trade Quantity:** The total number of shares traded on that trading day.\n",
    "\n",
    "**Turnover (Lacs):** The total turnover (in lakhs) of the stock on that trading day."
   ]
  },
  {
   "cell_type": "markdown",
   "id": "ba2f2433",
   "metadata": {},
   "source": [
    "<a id=\"prerequisite\"><a>\n",
    "## Prerequisite"
   ]
  },
  {
   "cell_type": "markdown",
   "id": "ae35a682",
   "metadata": {},
   "source": [
    "### Import libraries"
   ]
  },
  {
   "cell_type": "code",
   "execution_count": 3,
   "id": "ab82f7b0",
   "metadata": {},
   "outputs": [],
   "source": [
    "# Import numpy to perform mathematical operations on the dataset\n",
    "import numpy as np\n",
    "# Import pandas for storing , retrieving and manipulating 2-dimensional data in the form of table\n",
    "import pandas as pd\n",
    "# Import matplotlib for visualization tools\n",
    "import matplotlib.pyplot as plt\n",
    "# Import seaborn for better visualization methods\n",
    "import seaborn as sns\n",
    "# Import Min-Max Scaler for scaling the target variable\n",
    "from sklearn.preprocessing import MinMaxScaler\n",
    "# Import Sequential for model developement\n",
    "from tensorflow.keras.models import Sequential\n",
    "# Import Dense for Model developement\n",
    "from tensorflow.keras.layers import Dense\n",
    "# Import LSTM for training model and prediction\n",
    "from tensorflow.keras.layers import LSTM\n",
    "# Import mean squared error to evaluate the model\n",
    "from sklearn.metrics import mean_squared_error"
   ]
  },
  {
   "cell_type": "markdown",
   "id": "e6b93243",
   "metadata": {},
   "source": [
    "### Import dataset "
   ]
  },
  {
   "cell_type": "code",
   "execution_count": 5,
   "id": "6e2c8685",
   "metadata": {},
   "outputs": [],
   "source": [
    "# Store URL of the csv file to a variable\n",
    "url = \"https://raw.githubusercontent.com/mwitiderrick/stockprice/master/NSE-TATAGLOBAL.csv\"\n",
    "\n",
    "# Import data from csv file into data frame\n",
    "data = pd.read_csv(url).iloc[::-1,].reset_index(drop=True)"
   ]
  },
  {
   "cell_type": "markdown",
   "id": "1521a503",
   "metadata": {},
   "source": [
    "<a id=\"understanding\"><a>\n",
    "## Understanding and summarizing dataset"
   ]
  },
  {
   "cell_type": "code",
   "execution_count": 6,
   "id": "d84174b7",
   "metadata": {},
   "outputs": [
    {
     "data": {
      "text/plain": [
       "2035"
      ]
     },
     "execution_count": 6,
     "metadata": {},
     "output_type": "execute_result"
    }
   ],
   "source": [
    "# Check the length of the dataset\n",
    "len(data)"
   ]
  },
  {
   "cell_type": "code",
   "execution_count": 7,
   "id": "d65cf428",
   "metadata": {},
   "outputs": [
    {
     "data": {
      "text/html": [
       "<div>\n",
       "<style scoped>\n",
       "    .dataframe tbody tr th:only-of-type {\n",
       "        vertical-align: middle;\n",
       "    }\n",
       "\n",
       "    .dataframe tbody tr th {\n",
       "        vertical-align: top;\n",
       "    }\n",
       "\n",
       "    .dataframe thead th {\n",
       "        text-align: right;\n",
       "    }\n",
       "</style>\n",
       "<table border=\"1\" class=\"dataframe\">\n",
       "  <thead>\n",
       "    <tr style=\"text-align: right;\">\n",
       "      <th></th>\n",
       "      <th>Date</th>\n",
       "      <th>Open</th>\n",
       "      <th>High</th>\n",
       "      <th>Low</th>\n",
       "      <th>Last</th>\n",
       "      <th>Close</th>\n",
       "      <th>Total Trade Quantity</th>\n",
       "      <th>Turnover (Lacs)</th>\n",
       "    </tr>\n",
       "  </thead>\n",
       "  <tbody>\n",
       "    <tr>\n",
       "      <th>0</th>\n",
       "      <td>2010-07-21</td>\n",
       "      <td>122.1</td>\n",
       "      <td>123.00</td>\n",
       "      <td>121.05</td>\n",
       "      <td>121.10</td>\n",
       "      <td>121.55</td>\n",
       "      <td>658666</td>\n",
       "      <td>803.56</td>\n",
       "    </tr>\n",
       "    <tr>\n",
       "      <th>1</th>\n",
       "      <td>2010-07-22</td>\n",
       "      <td>120.3</td>\n",
       "      <td>122.00</td>\n",
       "      <td>120.25</td>\n",
       "      <td>120.75</td>\n",
       "      <td>120.90</td>\n",
       "      <td>293312</td>\n",
       "      <td>355.17</td>\n",
       "    </tr>\n",
       "    <tr>\n",
       "      <th>2</th>\n",
       "      <td>2010-07-23</td>\n",
       "      <td>121.8</td>\n",
       "      <td>121.95</td>\n",
       "      <td>120.25</td>\n",
       "      <td>120.35</td>\n",
       "      <td>120.65</td>\n",
       "      <td>281312</td>\n",
       "      <td>340.31</td>\n",
       "    </tr>\n",
       "    <tr>\n",
       "      <th>3</th>\n",
       "      <td>2010-07-26</td>\n",
       "      <td>120.1</td>\n",
       "      <td>121.00</td>\n",
       "      <td>117.10</td>\n",
       "      <td>117.10</td>\n",
       "      <td>117.60</td>\n",
       "      <td>658440</td>\n",
       "      <td>780.01</td>\n",
       "    </tr>\n",
       "    <tr>\n",
       "      <th>4</th>\n",
       "      <td>2010-07-27</td>\n",
       "      <td>117.6</td>\n",
       "      <td>119.50</td>\n",
       "      <td>112.00</td>\n",
       "      <td>118.80</td>\n",
       "      <td>118.65</td>\n",
       "      <td>586100</td>\n",
       "      <td>694.98</td>\n",
       "    </tr>\n",
       "  </tbody>\n",
       "</table>\n",
       "</div>"
      ],
      "text/plain": [
       "         Date   Open    High     Low    Last   Close  Total Trade Quantity  \\\n",
       "0  2010-07-21  122.1  123.00  121.05  121.10  121.55                658666   \n",
       "1  2010-07-22  120.3  122.00  120.25  120.75  120.90                293312   \n",
       "2  2010-07-23  121.8  121.95  120.25  120.35  120.65                281312   \n",
       "3  2010-07-26  120.1  121.00  117.10  117.10  117.60                658440   \n",
       "4  2010-07-27  117.6  119.50  112.00  118.80  118.65                586100   \n",
       "\n",
       "   Turnover (Lacs)  \n",
       "0           803.56  \n",
       "1           355.17  \n",
       "2           340.31  \n",
       "3           780.01  \n",
       "4           694.98  "
      ]
     },
     "execution_count": 7,
     "metadata": {},
     "output_type": "execute_result"
    }
   ],
   "source": [
    "# Display top 5 observations of the dataset\n",
    "data.head()"
   ]
  },
  {
   "cell_type": "code",
   "execution_count": 8,
   "id": "844d70fd",
   "metadata": {},
   "outputs": [
    {
     "name": "stdout",
     "output_type": "stream",
     "text": [
      "<class 'pandas.core.frame.DataFrame'>\n",
      "RangeIndex: 2035 entries, 0 to 2034\n",
      "Data columns (total 8 columns):\n",
      " #   Column                Non-Null Count  Dtype  \n",
      "---  ------                --------------  -----  \n",
      " 0   Date                  2035 non-null   object \n",
      " 1   Open                  2035 non-null   float64\n",
      " 2   High                  2035 non-null   float64\n",
      " 3   Low                   2035 non-null   float64\n",
      " 4   Last                  2035 non-null   float64\n",
      " 5   Close                 2035 non-null   float64\n",
      " 6   Total Trade Quantity  2035 non-null   int64  \n",
      " 7   Turnover (Lacs)       2035 non-null   float64\n",
      "dtypes: float64(6), int64(1), object(1)\n",
      "memory usage: 127.3+ KB\n"
     ]
    }
   ],
   "source": [
    "# Get basic information about the dataset\n",
    "data.info()"
   ]
  },
  {
   "cell_type": "code",
   "execution_count": 9,
   "id": "8b311de7",
   "metadata": {},
   "outputs": [
    {
     "data": {
      "text/html": [
       "<div>\n",
       "<style scoped>\n",
       "    .dataframe tbody tr th:only-of-type {\n",
       "        vertical-align: middle;\n",
       "    }\n",
       "\n",
       "    .dataframe tbody tr th {\n",
       "        vertical-align: top;\n",
       "    }\n",
       "\n",
       "    .dataframe thead th {\n",
       "        text-align: right;\n",
       "    }\n",
       "</style>\n",
       "<table border=\"1\" class=\"dataframe\">\n",
       "  <thead>\n",
       "    <tr style=\"text-align: right;\">\n",
       "      <th></th>\n",
       "      <th>Open</th>\n",
       "      <th>High</th>\n",
       "      <th>Low</th>\n",
       "      <th>Last</th>\n",
       "      <th>Close</th>\n",
       "      <th>Total Trade Quantity</th>\n",
       "      <th>Turnover (Lacs)</th>\n",
       "    </tr>\n",
       "  </thead>\n",
       "  <tbody>\n",
       "    <tr>\n",
       "      <th>count</th>\n",
       "      <td>2035.000000</td>\n",
       "      <td>2035.000000</td>\n",
       "      <td>2035.000000</td>\n",
       "      <td>2035.000000</td>\n",
       "      <td>2035.00000</td>\n",
       "      <td>2.035000e+03</td>\n",
       "      <td>2035.000000</td>\n",
       "    </tr>\n",
       "    <tr>\n",
       "      <th>mean</th>\n",
       "      <td>149.713735</td>\n",
       "      <td>151.992826</td>\n",
       "      <td>147.293931</td>\n",
       "      <td>149.474251</td>\n",
       "      <td>149.45027</td>\n",
       "      <td>2.335681e+06</td>\n",
       "      <td>3899.980565</td>\n",
       "    </tr>\n",
       "    <tr>\n",
       "      <th>std</th>\n",
       "      <td>48.664509</td>\n",
       "      <td>49.413109</td>\n",
       "      <td>47.931958</td>\n",
       "      <td>48.732570</td>\n",
       "      <td>48.71204</td>\n",
       "      <td>2.091778e+06</td>\n",
       "      <td>4570.767877</td>\n",
       "    </tr>\n",
       "    <tr>\n",
       "      <th>min</th>\n",
       "      <td>81.100000</td>\n",
       "      <td>82.800000</td>\n",
       "      <td>80.000000</td>\n",
       "      <td>81.000000</td>\n",
       "      <td>80.95000</td>\n",
       "      <td>3.961000e+04</td>\n",
       "      <td>37.040000</td>\n",
       "    </tr>\n",
       "    <tr>\n",
       "      <th>25%</th>\n",
       "      <td>120.025000</td>\n",
       "      <td>122.100000</td>\n",
       "      <td>118.300000</td>\n",
       "      <td>120.075000</td>\n",
       "      <td>120.05000</td>\n",
       "      <td>1.146444e+06</td>\n",
       "      <td>1427.460000</td>\n",
       "    </tr>\n",
       "    <tr>\n",
       "      <th>50%</th>\n",
       "      <td>141.500000</td>\n",
       "      <td>143.400000</td>\n",
       "      <td>139.600000</td>\n",
       "      <td>141.100000</td>\n",
       "      <td>141.25000</td>\n",
       "      <td>1.783456e+06</td>\n",
       "      <td>2512.030000</td>\n",
       "    </tr>\n",
       "    <tr>\n",
       "      <th>75%</th>\n",
       "      <td>157.175000</td>\n",
       "      <td>159.400000</td>\n",
       "      <td>155.150000</td>\n",
       "      <td>156.925000</td>\n",
       "      <td>156.90000</td>\n",
       "      <td>2.813594e+06</td>\n",
       "      <td>4539.015000</td>\n",
       "    </tr>\n",
       "    <tr>\n",
       "      <th>max</th>\n",
       "      <td>327.700000</td>\n",
       "      <td>328.750000</td>\n",
       "      <td>321.650000</td>\n",
       "      <td>325.950000</td>\n",
       "      <td>325.75000</td>\n",
       "      <td>2.919102e+07</td>\n",
       "      <td>55755.080000</td>\n",
       "    </tr>\n",
       "  </tbody>\n",
       "</table>\n",
       "</div>"
      ],
      "text/plain": [
       "              Open         High          Low         Last       Close  \\\n",
       "count  2035.000000  2035.000000  2035.000000  2035.000000  2035.00000   \n",
       "mean    149.713735   151.992826   147.293931   149.474251   149.45027   \n",
       "std      48.664509    49.413109    47.931958    48.732570    48.71204   \n",
       "min      81.100000    82.800000    80.000000    81.000000    80.95000   \n",
       "25%     120.025000   122.100000   118.300000   120.075000   120.05000   \n",
       "50%     141.500000   143.400000   139.600000   141.100000   141.25000   \n",
       "75%     157.175000   159.400000   155.150000   156.925000   156.90000   \n",
       "max     327.700000   328.750000   321.650000   325.950000   325.75000   \n",
       "\n",
       "       Total Trade Quantity  Turnover (Lacs)  \n",
       "count          2.035000e+03      2035.000000  \n",
       "mean           2.335681e+06      3899.980565  \n",
       "std            2.091778e+06      4570.767877  \n",
       "min            3.961000e+04        37.040000  \n",
       "25%            1.146444e+06      1427.460000  \n",
       "50%            1.783456e+06      2512.030000  \n",
       "75%            2.813594e+06      4539.015000  \n",
       "max            2.919102e+07     55755.080000  "
      ]
     },
     "execution_count": 9,
     "metadata": {},
     "output_type": "execute_result"
    }
   ],
   "source": [
    "# Get statistical data of the dataset which includes 5-point summary \n",
    "data.describe()"
   ]
  },
  {
   "cell_type": "code",
   "execution_count": 10,
   "id": "a611d207",
   "metadata": {},
   "outputs": [
    {
     "data": {
      "text/plain": [
       "Date                    0\n",
       "Open                    0\n",
       "High                    0\n",
       "Low                     0\n",
       "Last                    0\n",
       "Close                   0\n",
       "Total Trade Quantity    0\n",
       "Turnover (Lacs)         0\n",
       "dtype: int64"
      ]
     },
     "execution_count": 10,
     "metadata": {},
     "output_type": "execute_result"
    }
   ],
   "source": [
    "# Check if null values are present in the dataset\n",
    "data.isnull().sum()"
   ]
  },
  {
   "cell_type": "markdown",
   "id": "e4308c2f",
   "metadata": {},
   "source": [
    "<a id=\"preparation\"><a>\n",
    "## Data Preparation"
   ]
  },
  {
   "cell_type": "markdown",
   "id": "d1ffd4ac",
   "metadata": {},
   "source": [
    "### Extract Target variable (closing price)"
   ]
  },
  {
   "cell_type": "code",
   "execution_count": 13,
   "id": "e1981ba6",
   "metadata": {},
   "outputs": [
    {
     "data": {
      "text/html": [
       "<div>\n",
       "<style scoped>\n",
       "    .dataframe tbody tr th:only-of-type {\n",
       "        vertical-align: middle;\n",
       "    }\n",
       "\n",
       "    .dataframe tbody tr th {\n",
       "        vertical-align: top;\n",
       "    }\n",
       "\n",
       "    .dataframe thead th {\n",
       "        text-align: right;\n",
       "    }\n",
       "</style>\n",
       "<table border=\"1\" class=\"dataframe\">\n",
       "  <thead>\n",
       "    <tr style=\"text-align: right;\">\n",
       "      <th></th>\n",
       "      <th>Close</th>\n",
       "    </tr>\n",
       "  </thead>\n",
       "  <tbody>\n",
       "    <tr>\n",
       "      <th>0</th>\n",
       "      <td>121.55</td>\n",
       "    </tr>\n",
       "    <tr>\n",
       "      <th>1</th>\n",
       "      <td>120.90</td>\n",
       "    </tr>\n",
       "    <tr>\n",
       "      <th>2</th>\n",
       "      <td>120.65</td>\n",
       "    </tr>\n",
       "    <tr>\n",
       "      <th>3</th>\n",
       "      <td>117.60</td>\n",
       "    </tr>\n",
       "    <tr>\n",
       "      <th>4</th>\n",
       "      <td>118.65</td>\n",
       "    </tr>\n",
       "  </tbody>\n",
       "</table>\n",
       "</div>"
      ],
      "text/plain": [
       "    Close\n",
       "0  121.55\n",
       "1  120.90\n",
       "2  120.65\n",
       "3  117.60\n",
       "4  118.65"
      ]
     },
     "execution_count": 13,
     "metadata": {},
     "output_type": "execute_result"
    }
   ],
   "source": [
    "# Extract and display the target variable (close)\n",
    "target = pd.DataFrame(data.Close)\n",
    "target.head()"
   ]
  },
  {
   "cell_type": "markdown",
   "id": "aa5f22b0",
   "metadata": {},
   "source": [
    "### Visualize Target variable "
   ]
  },
  {
   "cell_type": "code",
   "execution_count": 14,
   "id": "46f83914",
   "metadata": {},
   "outputs": [
    {
     "data": {
      "image/png": "[encoded data removed]",
      "text/plain": [
       "<Figure size 432x288 with 1 Axes>"
      ]
     },
     "metadata": {
      "needs_background": "light"
     },
     "output_type": "display_data"
    }
   ],
   "source": [
    "# Display the plot for the target variable\n",
    "plt.plot(target)\n",
    "plt.show()"
   ]
  },
  {
   "cell_type": "markdown",
   "id": "2e69fc80",
   "metadata": {},
   "source": [
    "### Scaling"
   ]
  },
  {
   "cell_type": "code",
   "execution_count": 16,
   "id": "d375d04b",
   "metadata": {},
   "outputs": [
    {
     "data": {
      "text/html": [
       "<div>\n",
       "<style scoped>\n",
       "    .dataframe tbody tr th:only-of-type {\n",
       "        vertical-align: middle;\n",
       "    }\n",
       "\n",
       "    .dataframe tbody tr th {\n",
       "        vertical-align: top;\n",
       "    }\n",
       "\n",
       "    .dataframe thead th {\n",
       "        text-align: right;\n",
       "    }\n",
       "</style>\n",
       "<table border=\"1\" class=\"dataframe\">\n",
       "  <thead>\n",
       "    <tr style=\"text-align: right;\">\n",
       "      <th></th>\n",
       "      <th>Close</th>\n",
       "      <th>Scaled Data</th>\n",
       "    </tr>\n",
       "  </thead>\n",
       "  <tbody>\n",
       "    <tr>\n",
       "      <th>0</th>\n",
       "      <td>121.55</td>\n",
       "      <td>0.165850</td>\n",
       "    </tr>\n",
       "    <tr>\n",
       "      <th>1</th>\n",
       "      <td>120.90</td>\n",
       "      <td>0.163194</td>\n",
       "    </tr>\n",
       "    <tr>\n",
       "      <th>2</th>\n",
       "      <td>120.65</td>\n",
       "      <td>0.162173</td>\n",
       "    </tr>\n",
       "    <tr>\n",
       "      <th>3</th>\n",
       "      <td>117.60</td>\n",
       "      <td>0.149714</td>\n",
       "    </tr>\n",
       "    <tr>\n",
       "      <th>4</th>\n",
       "      <td>118.65</td>\n",
       "      <td>0.154003</td>\n",
       "    </tr>\n",
       "  </tbody>\n",
       "</table>\n",
       "</div>"
      ],
      "text/plain": [
       "    Close  Scaled Data\n",
       "0  121.55     0.165850\n",
       "1  120.90     0.163194\n",
       "2  120.65     0.162173\n",
       "3  117.60     0.149714\n",
       "4  118.65     0.154003"
      ]
     },
     "execution_count": 16,
     "metadata": {},
     "output_type": "execute_result"
    }
   ],
   "source": [
    "# Initialize Min-Max Scaler\n",
    "scaler = MinMaxScaler()\n",
    "\n",
    "# Scale the target variable using the scaler\n",
    "target[\"Scaled Data\"] = scaler.fit_transform(target[[\"Close\"]])\n",
    "\n",
    "# Display top 5 observations\n",
    "target.head()"
   ]
  },
  {
   "cell_type": "markdown",
   "id": "b83e8a19",
   "metadata": {},
   "source": [
    "### Train-Test Split"
   ]
  },
  {
   "cell_type": "code",
   "execution_count": 18,
   "id": "926e326c",
   "metadata": {},
   "outputs": [
    {
     "data": {
      "text/plain": [
       "0    0.165850\n",
       "1    0.163194\n",
       "2    0.162173\n",
       "3    0.149714\n",
       "4    0.154003\n",
       "Name: Scaled Data, dtype: float64"
      ]
     },
     "execution_count": 18,
     "metadata": {},
     "output_type": "execute_result"
    }
   ],
   "source": [
    "# Extract the first 70% data as train data\n",
    "train = target.iloc[:int(0.7*(len(target))),1]\n",
    "\n",
    "# Display top 5 observations of train data\n",
    "train.head()"
   ]
  },
  {
   "cell_type": "code",
   "execution_count": 19,
   "id": "427c8965",
   "metadata": {},
   "outputs": [
    {
     "data": {
      "text/plain": [
       "0    0.162173\n",
       "1    0.159518\n",
       "2    0.167075\n",
       "3    0.159926\n",
       "4    0.160539\n",
       "Name: Scaled Data, dtype: float64"
      ]
     },
     "execution_count": 19,
     "metadata": {},
     "output_type": "execute_result"
    }
   ],
   "source": [
    "# Extract the next 30% data as test data\n",
    "test = target.loc[int(0.7*(len(target))):,\"Scaled Data\"].reset_index(drop=True)\n",
    "\n",
    "# Display top 5 observations of test data\n",
    "test.head()"
   ]
  },
  {
   "cell_type": "markdown",
   "id": "f941c4bf",
   "metadata": {},
   "source": [
    "### Extract independent variables and target variable"
   ]
  },
  {
   "cell_type": "code",
   "execution_count": 20,
   "id": "00472f2f",
   "metadata": {},
   "outputs": [],
   "source": [
    "# Initialize empty lists for independent and target variables of train dataset\n",
    "X_train = []\n",
    "y_train = []\n",
    "\n",
    "# Extract 100 records as independent values and 101st record as target value over each iteration\n",
    "for i in range(len(train)-100):\n",
    "    X_train.append(list(train[i:i+100]))\n",
    "    y_train.append(train[i+100])"
   ]
  },
  {
   "cell_type": "code",
   "execution_count": 21,
   "id": "bf27fbab",
   "metadata": {},
   "outputs": [],
   "source": [
    "# Initialize empty lists for independent and target variables of train dataset\n",
    "X_test = []\n",
    "y_test = []\n",
    "\n",
    "# Extract 100 records as independent values and 101st record as target value over each iteration\n",
    "for i in range(len(test)-100):\n",
    "    X_test.append(list(test[i:i+100]))\n",
    "    y_test.append(test[i+100])"
   ]
  },
  {
   "cell_type": "markdown",
   "id": "22bfcd0d",
   "metadata": {},
   "source": [
    "<a id=\"model_developement\"><a>\n",
    "## Model Developement"
   ]
  },
  {
   "cell_type": "code",
   "execution_count": 26,
   "id": "1276dca0",
   "metadata": {},
   "outputs": [],
   "source": [
    "# Initialize a sequential model using LSTM algorithm\n",
    "model=Sequential()\n",
    "model.add(LSTM(50,return_sequences=True,input_shape=(100,1)))\n",
    "model.add(LSTM(50,return_sequences=True))\n",
    "model.add(LSTM(50))\n",
    "model.add(Dense(1))\n",
    "model.compile(loss='mean_squared_error',optimizer='adam')"
   ]
  },
  {
   "cell_type": "code",
   "execution_count": 27,
   "id": "9cd0b6f0",
   "metadata": {},
   "outputs": [
    {
     "name": "stdout",
     "output_type": "stream",
     "text": [
      "Model: \"sequential\"\n",
      "_________________________________________________________________\n",
      " Layer (type)                Output Shape              Param #   \n",
      "=================================================================\n",
      " lstm (LSTM)                 (None, 100, 50)           10400     \n",
      "                                                                 \n",
      " lstm_1 (LSTM)               (None, 100, 50)           20200     \n",
      "                                                                 \n",
      " lstm_2 (LSTM)               (None, 50)                20200     \n",
      "                                                                 \n",
      " dense (Dense)               (None, 1)                 51        \n",
      "                                                                 \n",
      "=================================================================\n",
      "Total params: 50,851\n",
      "Trainable params: 50,851\n",
      "Non-trainable params: 0\n",
      "_________________________________________________________________\n"
     ]
    }
   ],
   "source": [
    "# Display model summary\n",
    "model.summary()"
   ]
  },
  {
   "cell_type": "markdown",
   "id": "433b1995",
   "metadata": {},
   "source": [
    "### Train model"
   ]
  },
  {
   "cell_type": "code",
   "execution_count": 28,
   "id": "557a4d7b",
   "metadata": {},
   "outputs": [
    {
     "name": "stdout",
     "output_type": "stream",
     "text": [
      "Epoch 1/100\n",
      "21/21 [==============================] - 13s 229ms/step - loss: 0.0089 - val_loss: 0.0167\n",
      "Epoch 2/100\n",
      "21/21 [==============================] - 3s 146ms/step - loss: 0.0018 - val_loss: 0.0045\n",
      "Epoch 3/100\n",
      "21/21 [==============================] - 3s 146ms/step - loss: 0.0010 - val_loss: 0.0040\n",
      "Epoch 4/100\n",
      "21/21 [==============================] - 3s 145ms/step - loss: 8.6633e-04 - val_loss: 0.0056\n",
      "Epoch 5/100\n",
      "21/21 [==============================] - 3s 147ms/step - loss: 8.4053e-04 - val_loss: 0.0045\n",
      "Epoch 6/100\n",
      "21/21 [==============================] - 3s 149ms/step - loss: 8.2268e-04 - val_loss: 0.0043\n",
      "Epoch 7/100\n",
      "21/21 [==============================] - 3s 148ms/step - loss: 7.8984e-04 - val_loss: 0.0036\n",
      "Epoch 8/100\n",
      "21/21 [==============================] - 3s 147ms/step - loss: 7.7424e-04 - val_loss: 0.0036\n",
      "Epoch 9/100\n",
      "21/21 [==============================] - 3s 147ms/step - loss: 7.5573e-04 - val_loss: 0.0034\n",
      "Epoch 10/100\n",
      "21/21 [==============================] - 3s 146ms/step - loss: 7.5315e-04 - val_loss: 0.0052\n",
      "Epoch 11/100\n",
      "21/21 [==============================] - 3s 146ms/step - loss: 7.1075e-04 - val_loss: 0.0038\n",
      "Epoch 12/100\n",
      "21/21 [==============================] - 3s 147ms/step - loss: 6.7725e-04 - val_loss: 0.0038\n",
      "Epoch 13/100\n",
      "21/21 [==============================] - 3s 147ms/step - loss: 6.5973e-04 - val_loss: 0.0038\n",
      "Epoch 14/100\n",
      "21/21 [==============================] - 3s 147ms/step - loss: 6.5555e-04 - val_loss: 0.0032\n",
      "Epoch 15/100\n",
      "21/21 [==============================] - 3s 151ms/step - loss: 6.3595e-04 - val_loss: 0.0057\n",
      "Epoch 16/100\n",
      "21/21 [==============================] - 3s 149ms/step - loss: 6.5188e-04 - val_loss: 0.0036\n",
      "Epoch 17/100\n",
      "21/21 [==============================] - 3s 151ms/step - loss: 6.1513e-04 - val_loss: 0.0057\n",
      "Epoch 18/100\n",
      "21/21 [==============================] - 3s 146ms/step - loss: 6.0919e-04 - val_loss: 0.0052\n",
      "Epoch 19/100\n",
      "21/21 [==============================] - 3s 150ms/step - loss: 5.7030e-04 - val_loss: 0.0068\n",
      "Epoch 20/100\n",
      "21/21 [==============================] - 3s 148ms/step - loss: 6.3319e-04 - val_loss: 0.0057\n",
      "Epoch 21/100\n",
      "21/21 [==============================] - 3s 147ms/step - loss: 5.7995e-04 - val_loss: 0.0071\n",
      "Epoch 22/100\n",
      "21/21 [==============================] - 3s 149ms/step - loss: 5.4254e-04 - val_loss: 0.0061\n",
      "Epoch 23/100\n",
      "21/21 [==============================] - 3s 149ms/step - loss: 5.2792e-04 - val_loss: 0.0056\n",
      "Epoch 24/100\n",
      "21/21 [==============================] - 3s 150ms/step - loss: 5.1351e-04 - val_loss: 0.0047\n",
      "Epoch 25/100\n",
      "21/21 [==============================] - 3s 152ms/step - loss: 5.0771e-04 - val_loss: 0.0089\n",
      "Epoch 26/100\n",
      "21/21 [==============================] - 3s 148ms/step - loss: 5.2318e-04 - val_loss: 0.0035\n",
      "Epoch 27/100\n",
      "21/21 [==============================] - 3s 148ms/step - loss: 4.9509e-04 - val_loss: 0.0051\n",
      "Epoch 28/100\n",
      "21/21 [==============================] - 3s 149ms/step - loss: 4.6784e-04 - val_loss: 0.0058\n",
      "Epoch 29/100\n",
      "21/21 [==============================] - 3s 151ms/step - loss: 4.6762e-04 - val_loss: 0.0067\n",
      "Epoch 30/100\n",
      "21/21 [==============================] - 3s 150ms/step - loss: 4.6229e-04 - val_loss: 0.0060\n",
      "Epoch 31/100\n",
      "21/21 [==============================] - 3s 150ms/step - loss: 4.5046e-04 - val_loss: 0.0076\n",
      "Epoch 32/100\n",
      "21/21 [==============================] - 3s 150ms/step - loss: 4.3059e-04 - val_loss: 0.0053\n",
      "Epoch 33/100\n",
      "21/21 [==============================] - 3s 149ms/step - loss: 4.2495e-04 - val_loss: 0.0033\n",
      "Epoch 34/100\n",
      "21/21 [==============================] - 3s 149ms/step - loss: 4.4959e-04 - val_loss: 0.0029\n",
      "Epoch 35/100\n",
      "21/21 [==============================] - 3s 150ms/step - loss: 4.0279e-04 - val_loss: 0.0043\n",
      "Epoch 36/100\n",
      "21/21 [==============================] - 3s 151ms/step - loss: 3.7714e-04 - val_loss: 0.0038\n",
      "Epoch 37/100\n",
      "21/21 [==============================] - 3s 149ms/step - loss: 3.7332e-04 - val_loss: 0.0040\n",
      "Epoch 38/100\n",
      "21/21 [==============================] - 3s 149ms/step - loss: 3.9693e-04 - val_loss: 0.0044\n",
      "Epoch 39/100\n",
      "21/21 [==============================] - 3s 150ms/step - loss: 4.4254e-04 - val_loss: 0.0051\n",
      "Epoch 40/100\n",
      "21/21 [==============================] - 3s 150ms/step - loss: 4.3032e-04 - val_loss: 0.0022\n",
      "Epoch 41/100\n",
      "21/21 [==============================] - 3s 148ms/step - loss: 4.1398e-04 - val_loss: 0.0033\n",
      "Epoch 42/100\n",
      "21/21 [==============================] - 3s 148ms/step - loss: 3.7054e-04 - val_loss: 0.0045\n",
      "Epoch 43/100\n",
      "21/21 [==============================] - 3s 148ms/step - loss: 3.4241e-04 - val_loss: 0.0046\n",
      "Epoch 44/100\n",
      "21/21 [==============================] - 3s 149ms/step - loss: 3.0965e-04 - val_loss: 0.0034\n",
      "Epoch 45/100\n",
      "21/21 [==============================] - 3s 150ms/step - loss: 2.9256e-04 - val_loss: 0.0029\n",
      "Epoch 46/100\n",
      "21/21 [==============================] - 3s 149ms/step - loss: 2.9108e-04 - val_loss: 0.0011\n",
      "Epoch 47/100\n",
      "21/21 [==============================] - 3s 149ms/step - loss: 2.8961e-04 - val_loss: 9.0966e-04\n",
      "Epoch 48/100\n",
      "21/21 [==============================] - 3s 148ms/step - loss: 2.9187e-04 - val_loss: 0.0014\n",
      "Epoch 49/100\n",
      "21/21 [==============================] - 3s 146ms/step - loss: 2.5956e-04 - val_loss: 0.0017\n",
      "Epoch 50/100\n",
      "21/21 [==============================] - 3s 150ms/step - loss: 2.4507e-04 - val_loss: 0.0010\n",
      "Epoch 51/100\n",
      "21/21 [==============================] - 3s 149ms/step - loss: 2.4011e-04 - val_loss: 0.0013\n",
      "Epoch 52/100\n",
      "21/21 [==============================] - 3s 150ms/step - loss: 2.4666e-04 - val_loss: 5.6330e-04\n",
      "Epoch 53/100\n",
      "21/21 [==============================] - 3s 150ms/step - loss: 2.5462e-04 - val_loss: 0.0012\n",
      "Epoch 54/100\n",
      "21/21 [==============================] - 3s 148ms/step - loss: 2.2472e-04 - val_loss: 0.0015\n",
      "Epoch 55/100\n",
      "21/21 [==============================] - 3s 152ms/step - loss: 2.1749e-04 - val_loss: 0.0013\n",
      "Epoch 56/100\n",
      "21/21 [==============================] - 3s 149ms/step - loss: 2.2465e-04 - val_loss: 0.0024\n",
      "Epoch 57/100\n",
      "21/21 [==============================] - 3s 148ms/step - loss: 2.1738e-04 - val_loss: 0.0015\n",
      "Epoch 58/100\n",
      "21/21 [==============================] - 3s 147ms/step - loss: 2.1175e-04 - val_loss: 6.7516e-04\n",
      "Epoch 59/100\n",
      "21/21 [==============================] - 3s 148ms/step - loss: 2.0646e-04 - val_loss: 9.6355e-04\n",
      "Epoch 60/100\n",
      "21/21 [==============================] - 3s 148ms/step - loss: 1.9737e-04 - val_loss: 6.4244e-04\n",
      "Epoch 61/100\n",
      "21/21 [==============================] - 3s 148ms/step - loss: 1.9649e-04 - val_loss: 0.0020\n",
      "Epoch 62/100\n",
      "21/21 [==============================] - 3s 147ms/step - loss: 1.9065e-04 - val_loss: 8.7901e-04\n",
      "Epoch 63/100\n",
      "21/21 [==============================] - 3s 148ms/step - loss: 1.7253e-04 - val_loss: 9.7028e-04\n",
      "Epoch 64/100\n",
      "21/21 [==============================] - 3s 149ms/step - loss: 1.6887e-04 - val_loss: 5.4079e-04\n",
      "Epoch 65/100\n",
      "21/21 [==============================] - 3s 148ms/step - loss: 1.6249e-04 - val_loss: 4.4524e-04\n",
      "Epoch 66/100\n",
      "21/21 [==============================] - 3s 149ms/step - loss: 1.6528e-04 - val_loss: 4.0770e-04\n",
      "Epoch 67/100\n",
      "21/21 [==============================] - 3s 149ms/step - loss: 1.7252e-04 - val_loss: 4.1976e-04\n",
      "Epoch 68/100\n",
      "21/21 [==============================] - 3s 149ms/step - loss: 1.7979e-04 - val_loss: 0.0013\n",
      "Epoch 69/100\n",
      "21/21 [==============================] - 3s 149ms/step - loss: 1.5567e-04 - val_loss: 6.3414e-04\n",
      "Epoch 70/100\n",
      "21/21 [==============================] - 3s 149ms/step - loss: 1.6437e-04 - val_loss: 4.6484e-04\n",
      "Epoch 71/100\n",
      "21/21 [==============================] - 3s 151ms/step - loss: 1.8163e-04 - val_loss: 0.0016\n",
      "Epoch 72/100\n",
      "21/21 [==============================] - 3s 152ms/step - loss: 1.7408e-04 - val_loss: 9.7244e-04\n",
      "Epoch 73/100\n",
      "21/21 [==============================] - 3s 152ms/step - loss: 1.5610e-04 - val_loss: 5.5590e-04\n",
      "Epoch 74/100\n",
      "21/21 [==============================] - 3s 154ms/step - loss: 1.5046e-04 - val_loss: 5.5911e-04\n",
      "Epoch 75/100\n",
      "21/21 [==============================] - 3s 152ms/step - loss: 1.4149e-04 - val_loss: 0.0012\n",
      "Epoch 76/100\n",
      "21/21 [==============================] - 3s 150ms/step - loss: 1.4354e-04 - val_loss: 5.5801e-04\n",
      "Epoch 77/100\n",
      "21/21 [==============================] - 3s 149ms/step - loss: 1.3886e-04 - val_loss: 5.4907e-04\n",
      "Epoch 78/100\n",
      "21/21 [==============================] - 3s 147ms/step - loss: 1.4532e-04 - val_loss: 0.0011\n",
      "Epoch 79/100\n",
      "21/21 [==============================] - 3s 146ms/step - loss: 1.5667e-04 - val_loss: 5.3426e-04\n",
      "Epoch 80/100\n",
      "21/21 [==============================] - 3s 147ms/step - loss: 1.4513e-04 - val_loss: 5.3978e-04\n",
      "Epoch 81/100\n",
      "21/21 [==============================] - 3s 148ms/step - loss: 1.6319e-04 - val_loss: 0.0019\n",
      "Epoch 82/100\n",
      "21/21 [==============================] - 3s 146ms/step - loss: 1.7744e-04 - val_loss: 6.2497e-04\n",
      "Epoch 83/100\n",
      "21/21 [==============================] - 3s 147ms/step - loss: 1.3667e-04 - val_loss: 5.7854e-04\n",
      "Epoch 84/100\n",
      "21/21 [==============================] - 3s 147ms/step - loss: 1.3526e-04 - val_loss: 6.4208e-04\n",
      "Epoch 85/100\n",
      "21/21 [==============================] - 3s 146ms/step - loss: 1.3151e-04 - val_loss: 6.0290e-04\n",
      "Epoch 86/100\n",
      "21/21 [==============================] - 3s 148ms/step - loss: 1.3240e-04 - val_loss: 6.2333e-04\n",
      "Epoch 87/100\n",
      "21/21 [==============================] - 3s 148ms/step - loss: 1.3298e-04 - val_loss: 6.3000e-04\n",
      "Epoch 88/100\n",
      "21/21 [==============================] - 3s 147ms/step - loss: 1.4884e-04 - val_loss: 0.0020\n",
      "Epoch 89/100\n",
      "21/21 [==============================] - 3s 145ms/step - loss: 1.6064e-04 - val_loss: 6.6287e-04\n",
      "Epoch 90/100\n",
      "21/21 [==============================] - 3s 143ms/step - loss: 1.3881e-04 - val_loss: 0.0012\n",
      "Epoch 91/100\n",
      "21/21 [==============================] - 3s 144ms/step - loss: 1.4753e-04 - val_loss: 6.3496e-04\n",
      "Epoch 92/100\n",
      "21/21 [==============================] - 3s 144ms/step - loss: 1.4343e-04 - val_loss: 9.9227e-04\n",
      "Epoch 93/100\n",
      "21/21 [==============================] - 3s 147ms/step - loss: 1.3315e-04 - val_loss: 7.3225e-04\n",
      "Epoch 94/100\n",
      "21/21 [==============================] - 3s 145ms/step - loss: 1.3065e-04 - val_loss: 0.0012\n",
      "Epoch 95/100\n",
      "21/21 [==============================] - 3s 143ms/step - loss: 1.3777e-04 - val_loss: 7.1123e-04\n",
      "Epoch 96/100\n",
      "21/21 [==============================] - 3s 145ms/step - loss: 1.4857e-04 - val_loss: 8.0690e-04\n",
      "Epoch 97/100\n",
      "21/21 [==============================] - 3s 146ms/step - loss: 1.3244e-04 - val_loss: 6.5347e-04\n",
      "Epoch 98/100\n",
      "21/21 [==============================] - 3s 144ms/step - loss: 1.5559e-04 - val_loss: 0.0017\n",
      "Epoch 99/100\n",
      "21/21 [==============================] - 3s 146ms/step - loss: 1.6427e-04 - val_loss: 8.6202e-04\n",
      "Epoch 100/100\n",
      "21/21 [==============================] - 3s 147ms/step - loss: 1.3176e-04 - val_loss: 7.7075e-04\n"
     ]
    },
    {
     "data": {
      "text/plain": [
       "<keras.callbacks.History at 0x23f0eda8b20>"
      ]
     },
     "execution_count": 28,
     "metadata": {},
     "output_type": "execute_result"
    }
   ],
   "source": [
    "# Train model using train and test data\n",
    "model.fit(X_train,y_train,validation_data=(X_test,y_test),epochs=100,batch_size=64,verbose=1)"
   ]
  },
  {
   "cell_type": "markdown",
   "id": "ac2178b7",
   "metadata": {},
   "source": [
    "### Test model"
   ]
  },
  {
   "cell_type": "code",
   "execution_count": 29,
   "id": "8252a889",
   "metadata": {},
   "outputs": [
    {
     "name": "stdout",
     "output_type": "stream",
     "text": [
      "42/42 [==============================] - 3s 28ms/step\n",
      "16/16 [==============================] - 1s 29ms/step\n"
     ]
    }
   ],
   "source": [
    "# Predict train data\n",
    "train_predict = model.predict(X_train)\n",
    "# Predict test data\n",
    "test_predict = model.predict(X_test)"
   ]
  },
  {
   "cell_type": "code",
   "execution_count": 30,
   "id": "e608bd8a",
   "metadata": {},
   "outputs": [],
   "source": [
    "# Convert predicted data into actual scale using inverse transform\n",
    "train_predict=scaler.inverse_transform(train_predict)\n",
    "test_predict=scaler.inverse_transform(test_predict)"
   ]
  },
  {
   "cell_type": "markdown",
   "id": "c4f88731",
   "metadata": {},
   "source": [
    "### Test results"
   ]
  },
  {
   "cell_type": "code",
   "execution_count": 31,
   "id": "ab5ded3e",
   "metadata": {},
   "outputs": [],
   "source": [
    "# Store results of train data\n",
    "test_results1 = pd.DataFrame({\"Predicted\":train_predict.reshape(1324),\"Observed\":scaler.inverse_transform(np.array(y_train).reshape(-1,1)).reshape(-1)})"
   ]
  },
  {
   "cell_type": "code",
   "execution_count": 32,
   "id": "9345d23f",
   "metadata": {},
   "outputs": [],
   "source": [
    "# Store results of test data\n",
    "test_results2 = pd.DataFrame({\"Predicted\":test_predict.reshape(len(test_predict)),\"Observed\":scaler.inverse_transform(np.array(y_test).reshape(-1,1)).reshape(-1)})"
   ]
  },
  {
   "cell_type": "code",
   "execution_count": 33,
   "id": "c72be900",
   "metadata": {},
   "outputs": [],
   "source": [
    "# Concatenate both results of prediction of train data and test data\n",
    "test_results = pd.concat([test_results1,test_results2]).reset_index()"
   ]
  },
  {
   "cell_type": "markdown",
   "id": "c4b491e1",
   "metadata": {},
   "source": [
    "### Visualize test results"
   ]
  },
  {
   "cell_type": "code",
   "execution_count": 34,
   "id": "192760ba",
   "metadata": {},
   "outputs": [
    {
     "data": {
      "image/png": "[encoded data removed]",
      "text/plain": [
       "<Figure size 1440x720 with 1 Axes>"
      ]
     },
     "metadata": {
      "needs_background": "light"
     },
     "output_type": "display_data"
    }
   ],
   "source": [
    "# Adjust plot size for better visualization\n",
    "plt.figure(figsize=(20,10))\n",
    "\n",
    "# Plot curve for oberverved values\n",
    "plt.plot(test_results[\"Observed\"],c=\"b\",label=\"Observed value\")\n",
    "# Plot curve for predicted value of train data\n",
    "plt.plot(test_results[\"Predicted\"].iloc[:1324],c=\"red\",label=\"Predicted value of train data\")\n",
    "# Plot curve for predicted value of test data\n",
    "plt.plot(test_results[\"Predicted\"].iloc[1324:],c=\"g\",label=\"Predicted value of test data\")\n",
    "\n",
    "# Display legend for the plot\n",
    "plt.legend()\n",
    "# Display the plot\n",
    "plt.show()"
   ]
  },
  {
   "cell_type": "markdown",
   "id": "edcd46ec",
   "metadata": {},
   "source": [
    "<a id=\"model_evaluation\"><a>\n",
    "## Model Evaluation"
   ]
  },
  {
   "cell_type": "code",
   "execution_count": 37,
   "id": "bcb18347",
   "metadata": {},
   "outputs": [
    {
     "name": "stdout",
     "output_type": "stream",
     "text": [
      "Mean squared error for train data :  134.07841123429196\n"
     ]
    }
   ],
   "source": [
    "# Compute Mean squared error train data  \n",
    "print(\"Mean squared error for train data : \" , (mean_squared_error(y_train,train_predict))**0.5)"
   ]
  },
  {
   "cell_type": "code",
   "execution_count": 38,
   "id": "feffd38d",
   "metadata": {},
   "outputs": [
    {
     "name": "stdout",
     "output_type": "stream",
     "text": [
      "Mean squared error for test data :  210.82950689864774\n"
     ]
    }
   ],
   "source": [
    "# Compute Mean squared error test data  \n",
    "print(\"Mean squared error for test data : \" , (mean_squared_error(y_test,test_predict))**0.5)"
   ]
  },
  {
   "cell_type": "markdown",
   "id": "7ec9fba6",
   "metadata": {},
   "source": [
    "<a id=\"prediction\"><a>\n",
    "## Prediction of next month prices"
   ]
  },
  {
   "cell_type": "markdown",
   "id": "09daf689",
   "metadata": {},
   "source": [
    "### Initialize values for prediction"
   ]
  },
  {
   "cell_type": "code",
   "execution_count": 39,
   "id": "b36123fc",
   "metadata": {},
   "outputs": [],
   "source": [
    "# Store input values of prediction\n",
    "predict_input = test.iloc[-100:].values.tolist()\n",
    "# Create empty list to store output values of prediction\n",
    "predict_output = []\n",
    "# Create list to store both input and output data\n",
    "predict_data = predict_input.copy()"
   ]
  },
  {
   "cell_type": "code",
   "execution_count": 40,
   "id": "132dc80d",
   "metadata": {},
   "outputs": [],
   "source": [
    "# Iterate for loop to predict prices of 30 successive days\n",
    "for i in range(30):\n",
    "    # Pass 100 values as input\n",
    "    step_input = predict_data[-100:]\n",
    "    # Predict 101st value using developed model\n",
    "    step_output = model.predict([list(step_input)],verbose=0).reshape(1)\n",
    "    # Add the predicted value to the input value\n",
    "    predict_data.extend(step_output)\n",
    "    # Store the output values in a list\n",
    "    predict_output.extend(step_output)"
   ]
  },
  {
   "cell_type": "markdown",
   "id": "43ead43d",
   "metadata": {},
   "source": [
    "### Transform predicted values"
   ]
  },
  {
   "cell_type": "code",
   "execution_count": 41,
   "id": "f74c215b",
   "metadata": {},
   "outputs": [],
   "source": [
    "# Transform input data\n",
    "input_data = scaler.inverse_transform(np.array(predict_input).reshape(-1,1)).reshape(-1)\n",
    "# Transform output data\n",
    "predicted = scaler.inverse_transform(np.array(predict_output).reshape(-1,1)).reshape(-1)"
   ]
  },
  {
   "cell_type": "markdown",
   "id": "6daa2c30",
   "metadata": {},
   "source": [
    "## Visualization of predicted values"
   ]
  },
  {
   "cell_type": "markdown",
   "id": "a68bdf93",
   "metadata": {},
   "source": [
    "### Visualize predicted prices of next 30 days along with previous prices of 100 days"
   ]
  },
  {
   "cell_type": "code",
   "execution_count": 42,
   "id": "82c2e378",
   "metadata": {},
   "outputs": [
    {
     "data": {
      "image/png": "[encoded data removed]",
      "text/plain": [
       "<Figure size 432x288 with 1 Axes>"
      ]
     },
     "metadata": {
      "needs_background": "light"
     },
     "output_type": "display_data"
    }
   ],
   "source": [
    "# Plot a curve for previous prices\n",
    "plt.plot(input_data)\n",
    "# Plot a curve for predicted prices\n",
    "sns.lineplot(x=np.arange(101,131),y=predicted)\n",
    "# Display the plot\n",
    "plt.show()"
   ]
  },
  {
   "cell_type": "code",
   "execution_count": 43,
   "id": "f223733d",
   "metadata": {},
   "outputs": [
    {
     "data": {
      "image/png": "[encoded data removed]",
      "text/plain": [
       "<Figure size 432x288 with 1 Axes>"
      ]
     },
     "metadata": {
      "needs_background": "light"
     },
     "output_type": "display_data"
    }
   ],
   "source": [
    "# Plot prices of 130 days\n",
    "plt.plot(predict_data)\n",
    "plt.show()"
   ]
  },
  {
   "cell_type": "markdown",
   "id": "aa855d3e",
   "metadata": {},
   "source": [
    "### Visualize predicted prices of next 30 days along with previous price history "
   ]
  },
  {
   "cell_type": "code",
   "execution_count": 45,
   "id": "9886a5b7",
   "metadata": {},
   "outputs": [
    {
     "data": {
      "image/png": "[encoded data removed]",
      "text/plain": [
       "<Figure size 1440x720 with 1 Axes>"
      ]
     },
     "metadata": {
      "needs_background": "light"
     },
     "output_type": "display_data"
    }
   ],
   "source": [
    "# Store target values of entire given dataset\n",
    "Close_history = list(data.Close)\n",
    "# Add predicted values to the previous values\n",
    "Close_history.extend(predicted)\n",
    "\n",
    "# Adjust plot size for better visualization\n",
    "plt.figure(figsize=(20,10))\n",
    "# Plot curve for historic values as well as predicted values\n",
    "plt.plot(Close_history)\n",
    "# Display the plot\n",
    "plt.show()"
   ]
  },
  {
   "cell_type": "markdown",
   "id": "0b984bcf",
   "metadata": {},
   "source": [
    "<a id=\"conclusion\"><a>\n",
    "## Conclusion"
   ]
  },
  {
   "cell_type": "markdown",
   "id": "69733a68",
   "metadata": {},
   "source": [
    "<p style='text-align: justify; max-width:950px; text-indent: 30px;'>\n",
    "In conclusion, the project aimed to develop a stock market prediction and forecasting model using stacked LSTM to improve accuracy and overcome the limitations of traditional methods. The dataset, which contained historical stock market data for Tata Global Beverages Limited, provided valuable insights into the price movements and trading volumes of the company's stock.\n",
    "<p style='text-align: justify; max-width:950px; text-indent: 30px;'>\n",
    "By leveraging the power of deep learning and the hierarchical structure of stacked LSTM, the developed model successfully captured complex patterns and long-term dependencies present in the stock market data. It accurately predicted future price movements, enabling investors and traders to make informed decisions and optimize their portfolio management strategies.\n",
    "<p style='text-align: justify; max-width:950px; text-indent: 30px;'>\n",
    "The project's findings highlighted the effectiveness of stacked LSTM in handling the dynamic and volatile nature of stock market data. By considering historical trends and trading volumes, the model provided valuable insights into the stock's performance, aiding in risk assessment and market timing.\n",
    "<p style='text-align: justify; max-width:950px; text-indent: 30px;'>\n",
    "Overall, the project demonstrated the potential of stacked LSTM for stock market prediction and forecasting, contributing to improved decision-making in the dynamic and competitive stock market environment. It opens avenues for further research and advancements in utilizing deep learning techniques to enhance stock market analysis and trading strategies."
   ]
  }
 ],
 "metadata": {
  "kernelspec": {
   "display_name": "Python 3 (ipykernel)",
   "language": "python",
   "name": "python3"
  },
  "language_info": {
   "codemirror_mode": {
    "name": "ipython",
    "version": 3
   },
   "file_extension": ".py",
   "mimetype": "text/x-python",
   "name": "python",
   "nbconvert_exporter": "python",
   "pygments_lexer": "ipython3",
   "version": "3.9.12"
  }
 },
 "nbformat": 4,
 "nbformat_minor": 5
}
